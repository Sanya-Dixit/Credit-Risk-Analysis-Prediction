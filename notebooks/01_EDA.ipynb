{
 "cells": [
  {
   "cell_type": "markdown",
   "metadata": {},
   "source": [
    "# 01_EDA: Exploratory Data Analysis\n",
    "\n",
    "Analyze LendingClub credit data for risk prediction."
   ]
  },
  {
   "cell_type": "code",
   "metadata": {},
   "source": [
    "# Imports\n",
    "import pandas as pd\n",
    "import numpy as np\n",
    "import matplotlib.pyplot as plt\n",
    "import seaborn as sns\n",
    "\n",
    "# Load data\n",
    "df = pd.read_csv('../data/raw/lending_club.csv')"
   ]
  },
  {
   "cell_type": "markdown",
   "metadata": {},
   "source": [
    "## 1. Target Variable Distribution"
   ]
  },
  {
   "cell_type": "code",
   "metadata": {},
   "source": [
    "sns.countplot(x='loan_status', data=df[df['loan_status'].isin(['Fully Paid','Charged Off'])])\n",
    "plt.title('Loan Status Distribution')\n",
    "plt.show()"
   ]
  },
  {
   "cell_type": "markdown",
   "metadata": {},
   "source": [
    "## 2. Missing Values"
   ]
  },
  {
   "cell_type": "code",
   "metadata": {},
   "source": [
    "missing = df.isnull().mean().sort_values(ascending=False)\n",
    "missing[missing>0].plot(kind='bar', figsize=(10,4))\n",
    "plt.title('Missing Value Ratio per Feature')\n",
    "plt.show()"
   ]
  },
  {
   "cell_type": "markdown",
   "metadata": {},
   "source": [
    "## 3. Feature Correlation Heatmap"
   ]
  },
  {
   "cell_type": "code",
   "metadata": {},
   "source": [
    "corr = df[['annual_inc','loan_amnt','fico_score']].corr()\n",
    "sns.heatmap(corr, annot=True, cmap='coolwarm')\n",
    "plt.title('Feature Correlation Heatmap')\n",
    "plt.show()"
   ]
  },
  {
   "cell_type": "markdown",
   "metadata": {},
   "source": [
    "## 4. Relationships: Income, Credit Score, Loan Amount"
   ]
  },
  {
   "cell_type": "code",
   "metadata": {},
   "source": [
    "sns.boxplot(x='loan_status', y='annual_inc', data=df)\n",
    "plt.title('Annual Income vs Loan Status')\n",
    "plt.show()\n",
    "\n",
    "sns.boxplot(x='loan_status', y='fico_score', data=df)\n",
    "plt.title('FICO Score vs Loan Status')\n",
    "plt.show()\n",
    "\n",
    "sns.boxplot(x='loan_status', y='loan_amnt', data=df)\n",
    "plt.title('Loan Amount vs Loan Status')\n",
    "plt.show()"
   ]
  },
  {
   "cell_type": "markdown",
   "metadata": {},
   "source": [
    "## 5. Class Imbalance"
   ]
  },
  {
   "cell_type": "code",
   "metadata": {},
   "source": [
    "df['loan_status'].value_counts(normalize=True).plot(kind='pie', autopct='%1.1f%%')\n",
    "plt.title('Class Imbalance')\n",
    "plt.ylabel('')\n",
    "plt.show()"
   ]
  },
  {
   "cell_type": "markdown",
   "metadata": {},
   "source": [
    "## 6. Categorical Features Analysis"
   ]
  },
  {
   "cell_type": "code",
   "metadata": {},
   "source": [
    "cat_cols = ['purpose','home_ownership']\n",
    "for col in cat_cols:\n",
    "    sns.countplot(x=col, hue='loan_status', data=df)\n",
    "    plt.title(f'{col} vs Loan Status')\n",
    "    plt.xticks(rotation=45)\n",
    "    plt.show()"
   ]
  }
 ],
 "metadata": {
  "kernelspec": {
   "display_name": "Python 3",
   "language": "python",
   "name": "python3"
  },
  "language_info": {
   "name": "python",
   "version": "3.8"
  }
 },
 "nbformat": 4,
 "nbformat_minor": 2
}
