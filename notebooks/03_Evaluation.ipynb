{
 "cells": [
  {
   "cell_type": "markdown",
   "metadata": {},
   "source": [
    "# 03_Evaluation: Model Performance & Visualization\n",
    "\n",
    "Visualize metrics and interpret the best model."
   ]
  },
  {
   "cell_type": "code",
   "metadata": {},
   "source": [
    "# Imports\n",
    "import pandas as pd\n",
    "import matplotlib.pyplot as plt\n",
    "import seaborn as sns\n",
    "from sklearn.metrics import confusion_matrix, roc_curve, roc_auc_score, f1_score\n",
    "import pickle\n",
    "\n",
    "# Load test data\n",
    "X_test = pd.read_csv('../data/processed/X_test.csv')  # Save these during split\n",
    "y_test = pd.read_csv('../data/processed/y_test.csv').values.ravel()"
   ]
  },
  {
   "cell_type": "markdown",
   "metadata": {},
   "source": [
    "## 1. Load Best Model"
   ]
  },
  {
   "cell_type": "code",
   "metadata": {},
   "source": [
    "with open('../models/best_model.pkl', 'rb') as f:\n",
    "    best_model = pickle.load(f)\n",
    "y_pred = best_model.predict(X_test)\n",
    "y_proba = best_model.predict_proba(X_test)[:,1]"
   ]
  },
  {
   "cell_type": "markdown",
   "metadata": {},
   "source": [
    "## 2. Confusion Matrix"
   ]
  },
  {
   "cell_type": "code",
   "metadata": {},
   "source": [
    "cm = confusion_matrix(y_test, y_pred)\n",
    "sns.heatmap(cm, annot=True, fmt='d', cmap='Blues')\n",
    "plt.title('Confusion Matrix')\n",
    "plt.xlabel('Predicted')\n",
    "plt.ylabel('Actual')\n",
    "plt.show()"
   ]
  },
  {
   "cell_type": "markdown",
   "metadata": {},
   "source": [
    "## 3. ROC Curve"
   ]
  },
  {
   "cell_type": "code",
   "metadata": {},
   "source": [
    "fpr, tpr, thresholds = roc_curve(y_test, y_proba)\n",
    "roc_auc = roc_auc_score(y_test, y_proba)\n",
    "plt.plot(fpr, tpr, label=f'AUC = {roc_auc:.2f}')\n",
    "plt.plot([0,1],[0,1],'--', color='gray')\n",
    "plt.xlabel('False Positive Rate')\n",
    "plt.ylabel('True Positive Rate')\n",
    "plt.title('ROC Curve')\n",
    "plt.legend()\n",
    "plt.show()"
   ]
  },
  {
   "cell_type": "markdown",
   "metadata": {},
   "source": [
    "## 4. Feature Importance"
   ]
  },
  {
   "cell_type": "code",
   "metadata": {},
   "source": [
    "# For XGBoost and RandomForest, use .feature_importances_\n",
    "importances = best_model.feature_importances_\n",
    "feature_names = X_test.columns\n",
    "fi = pd.Series(importances, index=feature_names).sort_values(ascending=False)\n",
    "fi.plot(kind='bar', figsize=(10,4))\n",
    "plt.title('Feature Importance')\n",
    "plt.show()"
   ]
  },
  {
   "cell_type": "markdown",
   "metadata": {},
   "source": [
    "## 5. Summary Table"
   ]
  },
  {
   "cell_type": "code",
   "metadata": {},
   "source": [
    "print(f'ROC AUC: {roc_auc:.2f}')\n",
    "print(f'F1 Score: {f1_score(y_test, y_pred):.2f}')"
   ]
  }
 ],
 "metadata": {
  "kernelspec": {
   "display_name": "Python 3",
   "language": "python",
   "name": "python3"
  },
  "language_info": {
   "name": "python",
   "version": "3.8"
  }
 },
 "nbformat": 4,
 "nbformat_minor": 2
}